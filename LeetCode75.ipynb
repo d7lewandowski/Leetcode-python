{
 "cells": [
  {
   "cell_type": "markdown",
   "id": "fbe6b105",
   "metadata": {},
   "source": [
    "### 1768. Merge Strings Alternately"
   ]
  },
  {
   "cell_type": "code",
   "execution_count": null,
   "id": "39f063fe",
   "metadata": {},
   "outputs": [],
   "source": [
    "# Solustion 1\n",
    "class Solustion:\n",
    "    def mergeAlternately(self, word1: str, word2: str) -> str:\n",
    "        length = min(len(word1), len(word2))\n",
    "\n",
    "        result = ''\n",
    "        for i in range(length):\n",
    "            result += word1[i]\n",
    "            result += word2[i]\n",
    "        \n",
    "        result += word1[length:]\n",
    "        result += word2[length:]\n",
    "    \n",
    "        return result"
   ]
  },
  {
   "cell_type": "code",
   "execution_count": 6,
   "id": "be416910",
   "metadata": {},
   "outputs": [
    {
     "data": {
      "text/plain": [
       "[('a', 'x'), ('b', 'y'), ('c', 'z')]"
      ]
     },
     "execution_count": 6,
     "metadata": {},
     "output_type": "execute_result"
    }
   ],
   "source": [
    "from itertools import zip_longest\n",
    "word1 = 'abc'\n",
    "word2 = 'xyz'\n",
    "[*zip_longest(word1, word2)]"
   ]
  },
  {
   "cell_type": "code",
   "execution_count": null,
   "id": "d776c5bf",
   "metadata": {},
   "outputs": [],
   "source": [
    "# Solustion 2\n",
    "\n",
    "from itertools import zip_longest\n",
    "\n",
    "class Solution:\n",
    "    def mergeAlternately(self, word1: str, word2: str) -> str:\n",
    "        return ''.join(a + b for a, b in zip_longest(word1, word2, fillvalue=''))\n"
   ]
  },
  {
   "cell_type": "code",
   "execution_count": 9,
   "id": "517130c0",
   "metadata": {},
   "outputs": [
    {
     "data": {
      "text/plain": [
       "[('a', 'x'), ('b', 'y'), ('c', 'z')]"
      ]
     },
     "execution_count": 9,
     "metadata": {},
     "output_type": "execute_result"
    }
   ],
   "source": [
    "word1 = 'abc'\n",
    "word2 = 'xyzd'\n",
    "[*zip(word1, word2)]"
   ]
  },
  {
   "cell_type": "code",
   "execution_count": null,
   "id": "541ba51a",
   "metadata": {},
   "outputs": [],
   "source": [
    "# Solustion 3\n",
    "\n",
    "\n",
    "class Solution:\n",
    "    def mergeAlternately(self, word1: str, word2: str) -> str:\n",
    "        return ''.join(a + b for a, b in zip(word1, word2)) + word1[len(word2):] + word2[len(word1):]"
   ]
  },
  {
   "cell_type": "code",
   "execution_count": null,
   "id": "6e887a26",
   "metadata": {},
   "outputs": [],
   "source": [
    "# Solustion 4\n",
    "\n",
    "class Solution:\n",
    "    def mergeAlternately(self, word1: str, word2: str) -> str:\n",
    "        len_min = min(len(word1), len(word2))\n",
    "        merged_str = ''\n",
    "        for i in range(len_min):\n",
    "            merged_str += word1[i] + word2[i]\n",
    "        return merged_str + word1[len_min:] + word2[len_min:]"
   ]
  },
  {
   "cell_type": "code",
   "execution_count": null,
   "id": "0d76172a",
   "metadata": {},
   "outputs": [],
   "source": [
    "# Solustion 5\n",
    "\n",
    "class Solustion:\n",
    "    def mergeAlternately(self, word1: str, word2: str) -> str:\n",
    "        list_result = []\n",
    "        min_length = min(len(word1), len(word2))\n",
    "\n",
    "        for i in range(min_length):\n",
    "            list_result.append(word1[i])\n",
    "            list_result.append(word2[i])\n",
    "        \n",
    "        list_result.extend([word1[min_length:], word2[min_length:]])\n",
    "        return ''.join(list_result)"
   ]
  },
  {
   "cell_type": "markdown",
   "id": "af70ad33",
   "metadata": {},
   "source": [
    "### 1071. Greatest Common Divisor of Strings"
   ]
  },
  {
   "cell_type": "code",
   "execution_count": 11,
   "id": "ec87ae42",
   "metadata": {},
   "outputs": [],
   "source": [
    "class Solution:\n",
    "    def gcdOfStrings(self, str1: str, str2: str) -> str: \n",
    "        # str1 = ABCABC str2 = ABC\n",
    "        if str1 + str2 != str2 + str1:\n",
    "            return ''\n",
    "            \n",
    "        if len(str1) == len(str2):\n",
    "            return str1\n",
    "\n",
    "        if len(str1) > len(str2):\n",
    "            return self.gcdOfStrings(str1[len(str2):], str2)\n",
    "        return self.gcdOfStrings(str1, str2[len(str1):])\n"
   ]
  },
  {
   "cell_type": "markdown",
   "id": "9df14c08",
   "metadata": {},
   "source": [
    "### 1431. Kids With the Greatest Number of Candies"
   ]
  },
  {
   "cell_type": "code",
   "execution_count": null,
   "id": "45af27eb",
   "metadata": {},
   "outputs": [],
   "source": [
    "class Solution:\n",
    "    def kidsWithCandies(self, candies: List[int], extraCandies: int) -> List[bool]:\n",
    "        max_candies = max(candies)\n",
    "\n",
    "        result = []\n",
    "\n",
    "        for candy in candies:\n",
    "            if candy + extraCandies >= max_candies:\n",
    "                result.append(True)\n",
    "            else:\n",
    "                result.append(False)\n",
    "        \n",
    "        return result"
   ]
  },
  {
   "cell_type": "code",
   "execution_count": null,
   "id": "2d6f2941",
   "metadata": {},
   "outputs": [],
   "source": [
    "class Solution:\n",
    "    def kidsWithCandies(self, candies: List[int], extraCandies: int) -> List[bool]:\n",
    "        max_candies = max(candies)\n",
    "\n",
    "        result = []\n",
    "        for i in range(len(candies)):\n",
    "            result.append(candies[i] + extraCandies >= max_candies)\n",
    "        return result"
   ]
  },
  {
   "cell_type": "code",
   "execution_count": null,
   "id": "840d2739",
   "metadata": {},
   "outputs": [],
   "source": [
    "class Solution:\n",
    "    def kidsWithCandies(self, candies: List[int], extraCandies: int) -> List[bool]:\n",
    "        max_candies = max(candies)\n",
    "\n",
    "        return [candy + extraCandies >= max_candies for candy in candies]"
   ]
  },
  {
   "cell_type": "code",
   "execution_count": null,
   "id": "7d038e4e",
   "metadata": {},
   "outputs": [],
   "source": [
    "class Solution:\n",
    "    def kidsWithCandies(self, candies: List[int], extraCandies: int) -> List[bool]:\n",
    "        high_enough = max(candies) - extraCandies\n",
    "        return [i >= high_enough for i in candies]"
   ]
  },
  {
   "cell_type": "code",
   "execution_count": null,
   "id": "2b8f05c7",
   "metadata": {},
   "outputs": [],
   "source": [
    "class Solution:\n",
    "    def kidsWithCandies(self, candies: List[int], extraCandies: int) -> List[bool]:\n",
    "        high_enough = max(candies) - extraCandies\n",
    "        result = []\n",
    "\n",
    "        for num in candies:\n",
    "            result.append(num >= high_enough)\n",
    "        return result"
   ]
  },
  {
   "cell_type": "code",
   "execution_count": null,
   "id": "6939eb9f",
   "metadata": {},
   "outputs": [],
   "source": [
    "class Solution:\n",
    "    def kidsWithCandies(self, candies: List[int], extraCandies: int) -> List[bool]:\n",
    "        # Find out the greatest number of candies among all the kids\n",
    "        maxCandies = max(candies)\n",
    "        # For each kid, check if they will have greatest number of candies\n",
    "        # among all the kids\n",
    "        result = []\n",
    "        for i in range(len(candies)):\n",
    "            result.append(candies[i] + extraCandies >= maxCandies)\n",
    "\n",
    "        return result  "
   ]
  },
  {
   "cell_type": "markdown",
   "id": "d312d8d7",
   "metadata": {},
   "source": [
    "### 605. Can Place Flowers"
   ]
  },
  {
   "cell_type": "code",
   "execution_count": null,
   "id": "300faad7",
   "metadata": {},
   "outputs": [],
   "source": [
    "class Solution:\n",
    "    def canPlaceFlowers(self, flowerbed: List[int], n: int) -> bool:\n",
    "        count = 0\n",
    "        for i in range(len(flowerbed)):\n",
    "\n",
    "            if flowerbed[i] == 0:\n",
    "                # Check if the left and right plots are empty\n",
    "                empty_left_plot = (i == 0) or (flowerbed[i - 1] == 0)\n",
    "                empty_right_plot = (i == len(flowerbed) - 1) or (flowerbed[i + 1] == 0)\n",
    "            # If both plots are empty, we can plant a flower here.\n",
    "                if empty_left_plot and empty_right_plot:\n",
    "                    flowerbed[i] = 1\n",
    "                    count +=1 \n",
    "        return count >= n"
   ]
  },
  {
   "cell_type": "code",
   "execution_count": null,
   "id": "61096ed4",
   "metadata": {},
   "outputs": [],
   "source": [
    "class Solution:\n",
    "    def canPlaceFlowers(self, flowerbed: List[int], n: int) -> bool:\n",
    "        count = 0\n",
    "        for i in range(len(flowerbed)):\n",
    "            # Check if the current plot is empty\n",
    "            if flowerbed[i] == 0:\n",
    "                # Check if the left and right plots are empty\n",
    "                empty_left_plot = (i == 0) or (flowerbed[i-1] == 0)\n",
    "                empty_rigth_plot = (i == len(flowerbed) - 1) or (flowerbed[i+1] == 0)\n",
    "\n",
    "                if empty_left_plot and empty_rigth_plot:\n",
    "                    flowerbed[i] = 1\n",
    "                    count += 1\n",
    "                    if count >= n:\n",
    "                        return True\n",
    "        return count >= n"
   ]
  },
  {
   "cell_type": "markdown",
   "id": "13d4e3d7",
   "metadata": {},
   "source": [
    "### 345. Reverse Vowels of a String\n",
    "- https://leetcode.com/problems/reverse-vowels-of-a-string/description/?envType=study-plan-v2&envId=leetcode-75"
   ]
  },
  {
   "cell_type": "code",
   "execution_count": null,
   "id": "9b8532df",
   "metadata": {},
   "outputs": [],
   "source": [
    "class Solution:\n",
    "    def reverseVowels(self, s: str) -> str:\n",
    "        \n",
    "        s = list(s)\n",
    "        left = 0\n",
    "        right = len(s) - 1\n",
    "\n",
    "        vowels = 'aeiouAEIOU'\n",
    "        while left < right:\n",
    "            if s[left] in vowels and s[right] in vowels:\n",
    "\n",
    "                s[left], s[right] = s[right], s[left]\n",
    "\n",
    "                left += 1\n",
    "                right -= 1\n",
    "            elif s[left] not in vowels:\n",
    "                left += 1\n",
    "            elif s[right] not in vowels:\n",
    "                right -= 1\n",
    "        \n",
    "        return ''.join(s)\n"
   ]
  },
  {
   "cell_type": "code",
   "execution_count": 4,
   "id": "a3f79e92",
   "metadata": {},
   "outputs": [
    {
     "data": {
      "text/plain": [
       "['d', 'c', 'b', 'a']"
      ]
     },
     "execution_count": 4,
     "metadata": {},
     "output_type": "execute_result"
    }
   ],
   "source": [
    "s = 'abcd'\n",
    "\n",
    "[ch for ch in s[::-1]]"
   ]
  },
  {
   "cell_type": "code",
   "execution_count": null,
   "id": "c24483c6",
   "metadata": {},
   "outputs": [],
   "source": [
    "# Approach\n",
    "# create an iterator that iterates all the vowels backwards\n",
    "# create the string with each vowel replaced by the one from the iterator\n",
    "\n",
    "class Solution:\n",
    "    def reverseVowels(self, s: str) -> str:\n",
    "        it = (ch for ch in s[::-1] if ch.lower() in 'aeiou')\n",
    "\n",
    "        return ''.join(next(it) if ch.lower() in 'aeiou' else ch for ch in s)"
   ]
  },
  {
   "cell_type": "markdown",
   "id": "37afddad",
   "metadata": {},
   "source": [
    "### 151. Reverse Words in a String\n",
    "- https://leetcode.com/problems/reverse-words-in-a-string/description/?envType=study-plan-v2&envId=leetcode-75"
   ]
  },
  {
   "cell_type": "code",
   "execution_count": null,
   "id": "08bdf17a",
   "metadata": {},
   "outputs": [],
   "source": [
    "class Solution:\n",
    "    def reverseWords(self, s: str) -> str:\n",
    "        \n",
    "        s = s.split()\n",
    "\n",
    "        return ' '.join(s[::-1])"
   ]
  },
  {
   "cell_type": "markdown",
   "id": "99680df3",
   "metadata": {},
   "source": [
    "- for i in range(len(words) - 1, -1, -1) sets up a loop that starts from the end \n",
    "- of the words list and goes backward until it reaches the beginning.\n",
    "- len(words) - 1 is the index of the last word in the words list, and -1 is used as the stop condition (exclusive).\n",
    "- -1 as the step value means the loop decreases the index by 1 in each iteration.\n",
    "- This loop will reverse the order of the words.\n",
    "\n",
    "words = ['abc', 'xyz', 'dam', 'www']\n",
    "\n",
    "[words[i] for i in range(len(words) - 1, -1, -1)]\n",
    "\n",
    "\n",
    "- if i != 0 checks if the current word is not the last word in the reversed list (i.e., i is not 0).\n",
    "- If the condition is True, it appends a single space \" \" to res.\n",
    "- This ensures that there is a space between words but no trailing space at the end.\n",
    "if i != 0:\n",
    "    res.append(\" \")\n"
   ]
  },
  {
   "cell_type": "code",
   "execution_count": null,
   "id": "746d04bd",
   "metadata": {},
   "outputs": [],
   "source": [
    "class Solution:\n",
    "    def reverseWords(self, s: str) -> str:\n",
    "        words = s.split()\n",
    "        res = []\n",
    "\n",
    "        for i in range(len(words) - 1, -1, -1):\n",
    "            res.append(words[i])\n",
    "\n",
    "            if i != 0:\n",
    "                res.append(' ')\n",
    "            \n",
    "\n",
    "        return \"\".join(res)"
   ]
  },
  {
   "cell_type": "code",
   "execution_count": null,
   "id": "46e95662",
   "metadata": {},
   "outputs": [
    {
     "data": {
      "text/plain": [
       "['www', 'dam', 'xyz', 'abc']"
      ]
     },
     "execution_count": 9,
     "metadata": {},
     "output_type": "execute_result"
    }
   ],
   "source": [
    "class Solution:\n",
    "    def reverseWords(self, s: str) -> str:\n",
    "        words = s.split()\n",
    "\n",
    "        left, right = 0, len(words) - 1\n",
    "\n",
    "        while left < right:\n",
    "            words[left], words[right] = words[right], words[left]\n",
    "\n",
    "            left += 1 \n",
    "            right -= 1\n",
    "\n",
    "        return ' '.join(words)"
   ]
  },
  {
   "cell_type": "code",
   "execution_count": null,
   "id": "d3e65cbc",
   "metadata": {},
   "outputs": [],
   "source": [
    "class Solution:\n",
    "    def reverseWords(self, s: str) -> str:\n",
    "\n",
    "        return ' '.join(reversed(s.split()))"
   ]
  },
  {
   "cell_type": "markdown",
   "id": "d14c983a",
   "metadata": {},
   "source": [
    "### 238. Product of Array Except Self\n",
    "- https://leetcode.com/problems/product-of-array-except-self/description/?envType=study-plan-v2&envId=leetcode-75"
   ]
  },
  {
   "cell_type": "code",
   "execution_count": null,
   "id": "90aa00c4",
   "metadata": {},
   "outputs": [],
   "source": [
    "class Solution:\n",
    "    def productExceptSelf(self, nums: List[int]) -> List[int]:\n",
    "\n",
    "        output = [1] * len(nums)\n",
    "\n",
    "        left = 1\n",
    "        \n",
    "        for i in range(len(nums)):\n",
    "            \n",
    "            output[i] *= left\n",
    "            left *= nums[i]\n",
    "\n",
    "        right = 1\n",
    "        for i in range(len(nums) -1, -1, -1):\n",
    "\n",
    "            output[i] *= right\n",
    "            right *= nums[i]\n",
    "        \n",
    "        return output"
   ]
  },
  {
   "cell_type": "code",
   "execution_count": null,
   "id": "41865ec9",
   "metadata": {},
   "outputs": [],
   "source": [
    "class Solution:\n",
    "    def productExceptSelf(self, nums: List[int]) -> List[int]:\n",
    "\n",
    "        n = len(nums)\n",
    "\n",
    "        ans = [1] * n\n",
    "\n",
    "        for i in range(n):\n",
    "\n",
    "            prod = 1 \n",
    "\n",
    "            for j in range(n):\n",
    "\n",
    "                if i == j:\n",
    "                    continue\n",
    "                \n",
    "                prod *= nums[j]\n",
    "            ans[i] = prod\n",
    "        return ans"
   ]
  },
  {
   "cell_type": "code",
   "execution_count": null,
   "id": "f4173384",
   "metadata": {},
   "outputs": [],
   "source": [
    "class Solution:\n",
    "    def productExceptSelf(self, nums: List[int]) -> List[int]:\n",
    "\n",
    "        n = len(nums)\n",
    "\n",
    "        prefix = [0] * n\n",
    "        suffix = [0] * n\n",
    "\n",
    "        ans = [0] * n\n",
    "        prefix[0] = 1\n",
    "        suffix[-1] = 1\n",
    "\n",
    "        for i in range(1, n):\n",
    "            prefix[i] = prefix[i - 1] * nums[i - 1]\n",
    "        \n",
    "        print(prefix)\n",
    "        for i in range(n - 2, -1, -1):\n",
    "            suffix[i] = suffix[i+1] * nums[i+1]\n",
    "        print(suffix)\n",
    "\n",
    "        return [prefix[i] * suffix[i] for i in range(n)]"
   ]
  },
  {
   "cell_type": "markdown",
   "id": "ebb7f5b0",
   "metadata": {},
   "source": [
    "### 1768. Merge Strings Alternately\n",
    "- https://leetcode.com/problems/merge-strings-alternately/description/?envType=study-plan-v2&envId=leetcode-75"
   ]
  },
  {
   "cell_type": "code",
   "execution_count": null,
   "id": "87a980ea",
   "metadata": {},
   "outputs": [],
   "source": [
    "class Solution:\n",
    "    def compress(self, chars: List[str]) -> int:\n",
    "\n",
    "        ans = 0\n",
    "        i = 0\n",
    "        while i < len(chars):\n",
    "            letter = chars[i]\n",
    "            count = 0\n",
    "            \n",
    "            while i < len(chars) and chars[i] == letter:\n",
    "\n",
    "                count += 1\n",
    "                i += 1\n",
    "            \n",
    "            chars[ans] = letter\n",
    "            ans += 1\n",
    "            \n",
    "            \n",
    "            if count > 1:\n",
    "                for c in str(count):\n",
    "                    chars[ans] = c\n",
    "                    ans += 1\n",
    "\n",
    "        return ans"
   ]
  }
 ],
 "metadata": {
  "kernelspec": {
   "display_name": "Python 3",
   "language": "python",
   "name": "python3"
  },
  "language_info": {
   "codemirror_mode": {
    "name": "ipython",
    "version": 3
   },
   "file_extension": ".py",
   "mimetype": "text/x-python",
   "name": "python",
   "nbconvert_exporter": "python",
   "pygments_lexer": "ipython3",
   "version": "3.12.1"
  }
 },
 "nbformat": 4,
 "nbformat_minor": 5
}
