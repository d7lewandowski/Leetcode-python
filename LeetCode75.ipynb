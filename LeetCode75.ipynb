{
 "cells": [
  {
   "cell_type": "markdown",
   "id": "fbe6b105",
   "metadata": {},
   "source": [
    "### 1768. Merge Strings Alternately"
   ]
  },
  {
   "cell_type": "code",
   "execution_count": null,
   "id": "39f063fe",
   "metadata": {},
   "outputs": [],
   "source": [
    "# Solustion 1\n",
    "class Solustion:\n",
    "    def mergeAlternately(self, word1: str, word2: str) -> str:\n",
    "        length = min(len(word1), len(word2))\n",
    "\n",
    "        result = ''\n",
    "        for i in range(length):\n",
    "            result += word1[i]\n",
    "            result += word2[i]\n",
    "        \n",
    "        result += word1[length:]\n",
    "        result += word2[length:]\n",
    "    \n",
    "        return result"
   ]
  },
  {
   "cell_type": "code",
   "execution_count": 6,
   "id": "be416910",
   "metadata": {},
   "outputs": [
    {
     "data": {
      "text/plain": [
       "[('a', 'x'), ('b', 'y'), ('c', 'z')]"
      ]
     },
     "execution_count": 6,
     "metadata": {},
     "output_type": "execute_result"
    }
   ],
   "source": [
    "from itertools import zip_longest\n",
    "word1 = 'abc'\n",
    "word2 = 'xyz'\n",
    "[*zip_longest(word1, word2)]"
   ]
  },
  {
   "cell_type": "code",
   "execution_count": null,
   "id": "d776c5bf",
   "metadata": {},
   "outputs": [],
   "source": [
    "# Solustion 2\n",
    "\n",
    "from itertools import zip_longest\n",
    "\n",
    "class Solution:\n",
    "    def mergeAlternately(self, word1: str, word2: str) -> str:\n",
    "        return ''.join(a + b for a, b in zip_longest(word1, word2, fillvalue=''))\n"
   ]
  },
  {
   "cell_type": "code",
   "execution_count": 9,
   "id": "517130c0",
   "metadata": {},
   "outputs": [
    {
     "data": {
      "text/plain": [
       "[('a', 'x'), ('b', 'y'), ('c', 'z')]"
      ]
     },
     "execution_count": 9,
     "metadata": {},
     "output_type": "execute_result"
    }
   ],
   "source": [
    "word1 = 'abc'\n",
    "word2 = 'xyzd'\n",
    "[*zip(word1, word2)]"
   ]
  },
  {
   "cell_type": "code",
   "execution_count": null,
   "id": "541ba51a",
   "metadata": {},
   "outputs": [],
   "source": [
    "# Solustion 3\n",
    "\n",
    "\n",
    "class Solution:\n",
    "    def mergeAlternately(self, word1: str, word2: str) -> str:\n",
    "        return ''.join(a + b for a, b in zip(word1, word2)) + word1[len(word2):] + word2[len(word1):]"
   ]
  },
  {
   "cell_type": "code",
   "execution_count": null,
   "id": "6e887a26",
   "metadata": {},
   "outputs": [],
   "source": [
    "# Solustion 4\n",
    "\n",
    "class Solution:\n",
    "    def mergeAlternately(self, word1: str, word2: str) -> str:\n",
    "        len_min = min(len(word1), len(word2))\n",
    "        merged_str = ''\n",
    "        for i in range(len_min):\n",
    "            merged_str += word1[i] + word2[i]\n",
    "        return merged_str + word1[len_min:] + word2[len_min:]"
   ]
  },
  {
   "cell_type": "code",
   "execution_count": null,
   "id": "0d76172a",
   "metadata": {},
   "outputs": [],
   "source": [
    "# Solustion 5\n",
    "\n",
    "class Solustion:\n",
    "    def mergeAlternately(self, word1: str, word2: str) -> str:\n",
    "        list_result = []\n",
    "        min_length = min(len(word1), len(word2))\n",
    "\n",
    "        for i in range(min_length):\n",
    "            list_result.append(word1[i])\n",
    "            list_result.append(word2[i])\n",
    "        \n",
    "        list_result.extend([word1[min_length:], word2[min_length:]])\n",
    "        return ''.join(list_result)"
   ]
  },
  {
   "cell_type": "markdown",
   "id": "af70ad33",
   "metadata": {},
   "source": [
    "### 1071. Greatest Common Divisor of Strings"
   ]
  },
  {
   "cell_type": "code",
   "execution_count": 11,
   "id": "ec87ae42",
   "metadata": {},
   "outputs": [],
   "source": [
    "class Solution:\n",
    "    def gcdOfStrings(self, str1: str, str2: str) -> str: \n",
    "        # str1 = ABCABC str2 = ABC\n",
    "        if str1 + str2 != str2 + str1:\n",
    "            return ''\n",
    "            \n",
    "        if len(str1) == len(str2):\n",
    "            return str1\n",
    "\n",
    "        if len(str1) > len(str2):\n",
    "            return self.gcdOfStrings(str1[len(str2):], str2)\n",
    "        return self.gcdOfStrings(str1, str2[len(str1):])\n"
   ]
  },
  {
   "cell_type": "markdown",
   "id": "9df14c08",
   "metadata": {},
   "source": [
    "### 1431. Kids With the Greatest Number of Candies"
   ]
  },
  {
   "cell_type": "code",
   "execution_count": null,
   "id": "45af27eb",
   "metadata": {},
   "outputs": [],
   "source": [
    "class Solution:\n",
    "    def kidsWithCandies(self, candies: List[int], extraCandies: int) -> List[bool]:\n",
    "        max_candies = max(candies)\n",
    "\n",
    "        result = []\n",
    "\n",
    "        for candy in candies:\n",
    "            if candy + extraCandies >= max_candies:\n",
    "                result.append(True)\n",
    "            else:\n",
    "                result.append(False)\n",
    "        \n",
    "        return result"
   ]
  },
  {
   "cell_type": "code",
   "execution_count": null,
   "id": "2d6f2941",
   "metadata": {},
   "outputs": [],
   "source": [
    "class Solution:\n",
    "    def kidsWithCandies(self, candies: List[int], extraCandies: int) -> List[bool]:\n",
    "        max_candies = max(candies)\n",
    "\n",
    "        result = []\n",
    "        for i in range(len(candies)):\n",
    "            result.append(candies[i] + extraCandies >= max_candies)\n",
    "        return result"
   ]
  },
  {
   "cell_type": "code",
   "execution_count": null,
   "id": "840d2739",
   "metadata": {},
   "outputs": [],
   "source": [
    "class Solution:\n",
    "    def kidsWithCandies(self, candies: List[int], extraCandies: int) -> List[bool]:\n",
    "        max_candies = max(candies)\n",
    "\n",
    "        return [candy + extraCandies >= max_candies for candy in candies]"
   ]
  },
  {
   "cell_type": "code",
   "execution_count": null,
   "id": "7d038e4e",
   "metadata": {},
   "outputs": [],
   "source": [
    "class Solution:\n",
    "    def kidsWithCandies(self, candies: List[int], extraCandies: int) -> List[bool]:\n",
    "        high_enough = max(candies) - extraCandies\n",
    "        return [i >= high_enough for i in candies]"
   ]
  },
  {
   "cell_type": "code",
   "execution_count": null,
   "id": "2b8f05c7",
   "metadata": {},
   "outputs": [],
   "source": [
    "class Solution:\n",
    "    def kidsWithCandies(self, candies: List[int], extraCandies: int) -> List[bool]:\n",
    "        high_enough = max(candies) - extraCandies\n",
    "        result = []\n",
    "\n",
    "        for num in candies:\n",
    "            result.append(num >= high_enough)\n",
    "        return result"
   ]
  },
  {
   "cell_type": "code",
   "execution_count": null,
   "id": "6939eb9f",
   "metadata": {},
   "outputs": [],
   "source": [
    "class Solution:\n",
    "    def kidsWithCandies(self, candies: List[int], extraCandies: int) -> List[bool]:\n",
    "        # Find out the greatest number of candies among all the kids\n",
    "        maxCandies = max(candies)\n",
    "        # For each kid, check if they will have greatest number of candies\n",
    "        # among all the kids\n",
    "        result = []\n",
    "        for i in range(len(candies)):\n",
    "            result.append(candies[i] + extraCandies >= maxCandies)\n",
    "\n",
    "        return result  "
   ]
  },
  {
   "cell_type": "markdown",
   "id": "d312d8d7",
   "metadata": {},
   "source": [
    "### 605. Can Place Flowers"
   ]
  },
  {
   "cell_type": "code",
   "execution_count": null,
   "id": "300faad7",
   "metadata": {},
   "outputs": [],
   "source": [
    "class Solution:\n",
    "    def canPlaceFlowers(self, flowerbed: List[int], n: int) -> bool:\n",
    "        count = 0\n",
    "        for i in range(len(flowerbed)):\n",
    "\n",
    "            if flowerbed[i] == 0:\n",
    "                # Check if the left and right plots are empty\n",
    "                empty_left_plot = (i == 0) or (flowerbed[i - 1] == 0)\n",
    "                empty_right_plot = (i == len(flowerbed) - 1) or (flowerbed[i + 1] == 0)\n",
    "            # If both plots are empty, we can plant a flower here.\n",
    "                if empty_left_plot and empty_right_plot:\n",
    "                    flowerbed[i] = 1\n",
    "                    count +=1 \n",
    "        return count >= n"
   ]
  },
  {
   "cell_type": "code",
   "execution_count": null,
   "id": "61096ed4",
   "metadata": {},
   "outputs": [],
   "source": [
    "class Solution:\n",
    "    def canPlaceFlowers(self, flowerbed: List[int], n: int) -> bool:\n",
    "        count = 0\n",
    "        for i in range(len(flowerbed)):\n",
    "            # Check if the current plot is empty\n",
    "            if flowerbed[i] == 0:\n",
    "                # Check if the left and right plots are empty\n",
    "                empty_left_plot = (i == 0) or (flowerbed[i-1] == 0)\n",
    "                empty_rigth_plot = (i == len(flowerbed) - 1) or (flowerbed[i+1] == 0)\n",
    "\n",
    "                if empty_left_plot and empty_rigth_plot:\n",
    "                    flowerbed[i] = 1\n",
    "                    count += 1\n",
    "                    if count >= n:\n",
    "                        return True\n",
    "        return count >= n"
   ]
  }
 ],
 "metadata": {
  "kernelspec": {
   "display_name": "Python 3",
   "language": "python",
   "name": "python3"
  },
  "language_info": {
   "codemirror_mode": {
    "name": "ipython",
    "version": 3
   },
   "file_extension": ".py",
   "mimetype": "text/x-python",
   "name": "python",
   "nbconvert_exporter": "python",
   "pygments_lexer": "ipython3",
   "version": "3.12.1"
  }
 },
 "nbformat": 4,
 "nbformat_minor": 5
}
